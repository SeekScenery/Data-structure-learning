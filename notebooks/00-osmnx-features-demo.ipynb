{
  "cells": [
    {
      "cell_type": "markdown",
      "metadata": {
        "id": "HKaNkB60bQy_"
      },
      "source": [
        "# OSMnx features demo\n",
        "\n",
        "Author: [Geoff Boeing](https://geoffboeing.com/)\n",
        "\n",
        "Model street networks and other geospatial features anywhere in the world from OpenStreetMap then analyze and visualize them.\n",
        "\n",
        "More info:\n",
        "\n",
        "  - [Documentation](https://osmnx.readthedocs.io/)\n",
        "  - [Journal article and citation info](https://doi.org/10.1111/gean.70009)\n",
        "  - [Code repository](https://github.com/gboeing/osmnx)\n",
        "  - [Examples gallery](https://github.com/gboeing/osmnx-examples)\n",
        "  \n",
        "This notebook provides a quick tour of some of OSMnx's key features including how to:\n",
        "\n",
        "  - download/model street networks\n",
        "  - calculate stats\n",
        "  - visualize centrality\n",
        "  - impute speeds/travel times and calculate shortest paths\n",
        "  - attach and visualize elevation data and edge grades\n",
        "  - download/model other infrastructure types\n",
        "  - download points of interest data"
      ]
    },
    {
      "cell_type": "markdown",
      "metadata": {
        "id": "QkNyIP7XbQzC"
      },
      "source": [
        "## Working with street networks"
      ]
    },
    {
      "cell_type": "code",
      "execution_count": 8,
      "metadata": {
        "colab": {
          "base_uri": "https://localhost:8080/",
          "height": 204
        },
        "id": "u1IwIY4ubQzB",
        "outputId": "844a53c6-a167-42d8-b25d-68760c263fad"
      },
      "outputs": [
        {
          "output_type": "stream",
          "name": "stdout",
          "text": [
            "\n",
            "Usage:   \n",
            "  pip3 install [options] <requirement specifier> [package-index-options] ...\n",
            "  pip3 install [options] -r <requirements file> [package-index-options] ...\n",
            "  pip3 install [options] [-e] <vcs project url> ...\n",
            "  pip3 install [options] [-e] <local project path> ...\n",
            "  pip3 install [options] <archive url/path> ...\n",
            "\n",
            "no such option: --system\n"
          ]
        },
        {
          "output_type": "execute_result",
          "data": {
            "text/plain": [
              "'2.0.4'"
            ],
            "application/vnd.google.colaboratory.intrinsic+json": {
              "type": "string"
            }
          },
          "metadata": {},
          "execution_count": 8
        }
      ],
      "source": [
        "# @title 默认标题文本\n",
        "# ! pip install --system --quiet osmnx\n",
        "import networkx as nx\n",
        "import osmnx as ox\n",
        "\n",
        "ox.__version__"
      ]
    },
    {
      "cell_type": "code",
      "source": [
        "!pip install osmnx"
      ],
      "metadata": {
        "id": "gBwm5oAFcZSU",
        "outputId": "72284666-b446-4d8d-f329-f91c8ac2b6f0",
        "colab": {
          "base_uri": "https://localhost:8080/"
        }
      },
      "execution_count": 7,
      "outputs": [
        {
          "output_type": "stream",
          "name": "stdout",
          "text": [
            "Collecting osmnx\n",
            "  Downloading osmnx-2.0.4-py3-none-any.whl.metadata (4.9 kB)\n",
            "Requirement already satisfied: geopandas>=1.0 in /usr/local/lib/python3.11/dist-packages (from osmnx) (1.0.1)\n",
            "Requirement already satisfied: networkx>=2.5 in /usr/local/lib/python3.11/dist-packages (from osmnx) (3.5)\n",
            "Requirement already satisfied: numpy>=1.22 in /usr/local/lib/python3.11/dist-packages (from osmnx) (2.0.2)\n",
            "Requirement already satisfied: pandas>=1.4 in /usr/local/lib/python3.11/dist-packages (from osmnx) (2.2.2)\n",
            "Requirement already satisfied: requests>=2.27 in /usr/local/lib/python3.11/dist-packages (from osmnx) (2.32.3)\n",
            "Requirement already satisfied: shapely>=2.0 in /usr/local/lib/python3.11/dist-packages (from osmnx) (2.1.1)\n",
            "Requirement already satisfied: pyogrio>=0.7.2 in /usr/local/lib/python3.11/dist-packages (from geopandas>=1.0->osmnx) (0.11.0)\n",
            "Requirement already satisfied: packaging in /usr/local/lib/python3.11/dist-packages (from geopandas>=1.0->osmnx) (24.2)\n",
            "Requirement already satisfied: pyproj>=3.3.0 in /usr/local/lib/python3.11/dist-packages (from geopandas>=1.0->osmnx) (3.7.1)\n",
            "Requirement already satisfied: python-dateutil>=2.8.2 in /usr/local/lib/python3.11/dist-packages (from pandas>=1.4->osmnx) (2.9.0.post0)\n",
            "Requirement already satisfied: pytz>=2020.1 in /usr/local/lib/python3.11/dist-packages (from pandas>=1.4->osmnx) (2025.2)\n",
            "Requirement already satisfied: tzdata>=2022.7 in /usr/local/lib/python3.11/dist-packages (from pandas>=1.4->osmnx) (2025.2)\n",
            "Requirement already satisfied: charset-normalizer<4,>=2 in /usr/local/lib/python3.11/dist-packages (from requests>=2.27->osmnx) (3.4.2)\n",
            "Requirement already satisfied: idna<4,>=2.5 in /usr/local/lib/python3.11/dist-packages (from requests>=2.27->osmnx) (3.10)\n",
            "Requirement already satisfied: urllib3<3,>=1.21.1 in /usr/local/lib/python3.11/dist-packages (from requests>=2.27->osmnx) (2.4.0)\n",
            "Requirement already satisfied: certifi>=2017.4.17 in /usr/local/lib/python3.11/dist-packages (from requests>=2.27->osmnx) (2025.6.15)\n",
            "Requirement already satisfied: six>=1.5 in /usr/local/lib/python3.11/dist-packages (from python-dateutil>=2.8.2->pandas>=1.4->osmnx) (1.17.0)\n",
            "Downloading osmnx-2.0.4-py3-none-any.whl (100 kB)\n",
            "\u001b[2K   \u001b[90m━━━━━━━━━━━━━━━━━━━━━━━━━━━━━━━━━━━━━━━━\u001b[0m \u001b[32m100.5/100.5 kB\u001b[0m \u001b[31m2.5 MB/s\u001b[0m eta \u001b[36m0:00:00\u001b[0m\n",
            "\u001b[?25hInstalling collected packages: osmnx\n",
            "Successfully installed osmnx-2.0.4\n"
          ]
        }
      ]
    },
    {
      "cell_type": "code",
      "execution_count": 6,
      "metadata": {
        "colab": {
          "base_uri": "https://localhost:8080/"
        },
        "id": "GQ18Kd5F3uKe",
        "outputId": "a01a9e90-cab5-40a6-a20f-b02a15d80898"
      },
      "outputs": [
        {
          "output_type": "stream",
          "name": "stdout",
          "text": [
            "Requirement already satisfied: matplotlib-venn in /usr/local/lib/python3.11/dist-packages (1.1.2)\n",
            "Requirement already satisfied: matplotlib in /usr/local/lib/python3.11/dist-packages (from matplotlib-venn) (3.10.0)\n",
            "Requirement already satisfied: numpy in /usr/local/lib/python3.11/dist-packages (from matplotlib-venn) (2.0.2)\n",
            "Requirement already satisfied: scipy in /usr/local/lib/python3.11/dist-packages (from matplotlib-venn) (1.15.3)\n",
            "Requirement already satisfied: contourpy>=1.0.1 in /usr/local/lib/python3.11/dist-packages (from matplotlib->matplotlib-venn) (1.3.2)\n",
            "Requirement already satisfied: cycler>=0.10 in /usr/local/lib/python3.11/dist-packages (from matplotlib->matplotlib-venn) (0.12.1)\n",
            "Requirement already satisfied: fonttools>=4.22.0 in /usr/local/lib/python3.11/dist-packages (from matplotlib->matplotlib-venn) (4.58.4)\n",
            "Requirement already satisfied: kiwisolver>=1.3.1 in /usr/local/lib/python3.11/dist-packages (from matplotlib->matplotlib-venn) (1.4.8)\n",
            "Requirement already satisfied: packaging>=20.0 in /usr/local/lib/python3.11/dist-packages (from matplotlib->matplotlib-venn) (24.2)\n",
            "Requirement already satisfied: pillow>=8 in /usr/local/lib/python3.11/dist-packages (from matplotlib->matplotlib-venn) (11.2.1)\n",
            "Requirement already satisfied: pyparsing>=2.3.1 in /usr/local/lib/python3.11/dist-packages (from matplotlib->matplotlib-venn) (3.2.3)\n",
            "Requirement already satisfied: python-dateutil>=2.7 in /usr/local/lib/python3.11/dist-packages (from matplotlib->matplotlib-venn) (2.9.0.post0)\n",
            "Requirement already satisfied: six>=1.5 in /usr/local/lib/python3.11/dist-packages (from python-dateutil>=2.7->matplotlib->matplotlib-venn) (1.17.0)\n"
          ]
        }
      ],
      "source": [
        "!pip install matplotlib-venn"
      ]
    },
    {
      "cell_type": "code",
      "execution_count": null,
      "metadata": {
        "id": "Qf9VGs5BbQzC"
      },
      "outputs": [],
      "source": [
        "# download/model a street network for some city then visualize it\n",
        "G = ox.graph.graph_from_place(\"Piedmont, California, USA\", network_type=\"drive\")\n",
        "fig, ax = ox.plot.plot_graph(G)"
      ]
    },
    {
      "cell_type": "markdown",
      "metadata": {
        "id": "QyLlVUV1bQzD"
      },
      "source": [
        "OSMnx geocodes the query \"Piedmont, California, USA\" to retrieve the place boundaries of that city from the Nominatim API, retrieves the drivable street network data within those boundaries from the Overpass API, constructs a graph model, then simplifies/corrects its topology such that nodes represent intersections and dead-ends and edges represent the street segments linking them. All of this is discussed in detail in the documentation and these examples.\n",
        "\n",
        "OSMnx models all networks as NetworkX `MultiDiGraph` objects. You can convert to:\n",
        "  - undirected MultiGraphs\n",
        "  - DiGraphs without (possible) parallel edges\n",
        "  - GeoPandas node/edge GeoDataFrames\n",
        "\n",
        "Note that converting to an undirected MultiGraph is really only meant for use cases where a function or algorithm only accepts a MultiGraph argument. If you just want a fully bidirectional graph (such as for a walking network), just configure the `settings` module’s `bidirectional_network_types` before creating your graph."
      ]
    },
    {
      "cell_type": "code",
      "execution_count": null,
      "metadata": {
        "id": "2lFZ_wjobQzD"
      },
      "outputs": [],
      "source": [
        "# get a fully bidirection network (as a MultiDiGraph)\n",
        "ox.settings.bidirectional_network_types += \"drive\"\n",
        "G = ox.graph.graph_from_place(\"Piedmont, California, USA\", network_type=\"drive\")\n",
        "\n",
        "# convert your MultiDiGraph to an undirected MultiGraph\n",
        "M = ox.convert.to_undirected(G)\n",
        "\n",
        "# convert your MultiDiGraph to a DiGraph without parallel edges\n",
        "D = ox.convert.to_digraph(G)"
      ]
    },
    {
      "cell_type": "code",
      "execution_count": null,
      "metadata": {
        "id": "6qoaWx3ubQzD"
      },
      "outputs": [],
      "source": [
        "# you can convert your graph to node and edge GeoPandas GeoDataFrames\n",
        "gdf_nodes, gdf_edges = ox.convert.graph_to_gdfs(G)\n",
        "gdf_nodes.head()"
      ]
    },
    {
      "cell_type": "code",
      "execution_count": null,
      "metadata": {
        "id": "wiBdpKYXbQzD"
      },
      "outputs": [],
      "source": [
        "gdf_edges.head()"
      ]
    },
    {
      "cell_type": "markdown",
      "metadata": {
        "id": "QZklSeyubQzD"
      },
      "source": [
        "You can create a graph from node/edge GeoDataFrames, as long as gdf_nodes is indexed by osmid and gdf_edges is multi-indexed by u, v, key (following normal MultiDiGraph structure). This allows you to load graph node/edge ShapeFiles or GeoPackage layers as GeoDataFrames then convert to a MultiDiGraph for graph analytics."
      ]
    },
    {
      "cell_type": "code",
      "execution_count": null,
      "metadata": {
        "id": "hDDOL-ntbQzE"
      },
      "outputs": [],
      "source": [
        "# convert node/edge GeoPandas GeoDataFrames to a NetworkX MultiDiGraph\n",
        "G2 = ox.convert.graph_from_gdfs(gdf_nodes, gdf_edges, graph_attrs=G.graph)"
      ]
    },
    {
      "cell_type": "markdown",
      "metadata": {
        "id": "UK_v8I9FbQzE"
      },
      "source": [
        "## Basic street network stats"
      ]
    },
    {
      "cell_type": "code",
      "execution_count": null,
      "metadata": {
        "id": "Z9UfiaVHbQzE"
      },
      "outputs": [],
      "source": [
        "# what sized area does our network cover in square meters?\n",
        "G_proj = ox.projection.project_graph(G)\n",
        "nodes_proj = ox.convert.graph_to_gdfs(G_proj, edges=False)\n",
        "graph_area_m = nodes_proj.union_all().convex_hull.area\n",
        "graph_area_m"
      ]
    },
    {
      "cell_type": "code",
      "execution_count": null,
      "metadata": {
        "id": "Htr2SczpbQzE"
      },
      "outputs": [],
      "source": [
        "# show some basic stats about the network\n",
        "ox.stats.basic_stats(G_proj, area=graph_area_m, clean_int_tol=15)"
      ]
    },
    {
      "cell_type": "markdown",
      "metadata": {
        "id": "n_kO7KY4bQzE"
      },
      "source": [
        "stats documentation: https://osmnx.readthedocs.io/en/stable/osmnx.html#module-osmnx.stats"
      ]
    },
    {
      "cell_type": "code",
      "execution_count": null,
      "metadata": {
        "id": "SYwCx8rKbQzE"
      },
      "outputs": [],
      "source": [
        "# save graph to disk as geopackage (for GIS) or graphml file (for gephi etc)\n",
        "ox.io.save_graph_geopackage(G, filepath=\"./data/mynetwork.gpkg\")\n",
        "ox.io.save_graphml(G, filepath=\"./data/mynetwork.graphml\")"
      ]
    },
    {
      "cell_type": "markdown",
      "metadata": {
        "id": "wUmoCzSCbQzE"
      },
      "source": [
        "## Visualize street centrality\n",
        "\n",
        "Here we plot the street network and color its edges (streets) by their relative closeness centrality."
      ]
    },
    {
      "cell_type": "code",
      "execution_count": null,
      "metadata": {
        "id": "Smp29pfDbQzF"
      },
      "outputs": [],
      "source": [
        "# convert graph to line graph so edges become nodes and vice versa\n",
        "edge_centrality = nx.closeness_centrality(nx.line_graph(G))\n",
        "nx.set_edge_attributes(G, edge_centrality, \"edge_centrality\")"
      ]
    },
    {
      "cell_type": "code",
      "execution_count": null,
      "metadata": {
        "id": "4WAJJ-3obQzF"
      },
      "outputs": [],
      "source": [
        "# color edges in original graph with closeness centralities from line graph\n",
        "ec = ox.plot.get_edge_colors_by_attr(G, \"edge_centrality\", cmap=\"inferno\")\n",
        "fig, ax = ox.plot.plot_graph(G, edge_color=ec, edge_linewidth=2, node_size=0)"
      ]
    },
    {
      "cell_type": "markdown",
      "metadata": {
        "id": "YuMwJENxbQzF"
      },
      "source": [
        "## Routing"
      ]
    },
    {
      "cell_type": "code",
      "execution_count": 4,
      "metadata": {
        "colab": {
          "base_uri": "https://localhost:8080/",
          "height": 187
        },
        "id": "cv8Fh216bQzF",
        "outputId": "e94cf769-82aa-4413-b517-eaef1f9b03fe"
      },
      "outputs": [
        {
          "output_type": "error",
          "ename": "NameError",
          "evalue": "name 'ox' is not defined",
          "traceback": [
            "\u001b[0;31m---------------------------------------------------------------------------\u001b[0m",
            "\u001b[0;31mNameError\u001b[0m                                 Traceback (most recent call last)",
            "\u001b[0;32m/tmp/ipython-input-4-3056723148.py\u001b[0m in \u001b[0;36m<cell line: 0>\u001b[0;34m()\u001b[0m\n\u001b[1;32m      1\u001b[0m \u001b[0;31m# impute missing edge speeds and calculate edge travel times with the speed module\u001b[0m\u001b[0;34m\u001b[0m\u001b[0;34m\u001b[0m\u001b[0m\n\u001b[0;32m----> 2\u001b[0;31m \u001b[0mG\u001b[0m \u001b[0;34m=\u001b[0m \u001b[0mox\u001b[0m\u001b[0;34m.\u001b[0m\u001b[0mrouting\u001b[0m\u001b[0;34m.\u001b[0m\u001b[0madd_edge_speeds\u001b[0m\u001b[0;34m(\u001b[0m\u001b[0mG\u001b[0m\u001b[0;34m)\u001b[0m\u001b[0;34m\u001b[0m\u001b[0;34m\u001b[0m\u001b[0m\n\u001b[0m\u001b[1;32m      3\u001b[0m \u001b[0mG\u001b[0m \u001b[0;34m=\u001b[0m \u001b[0mox\u001b[0m\u001b[0;34m.\u001b[0m\u001b[0mrouting\u001b[0m\u001b[0;34m.\u001b[0m\u001b[0madd_edge_travel_times\u001b[0m\u001b[0;34m(\u001b[0m\u001b[0mG\u001b[0m\u001b[0;34m)\u001b[0m\u001b[0;34m\u001b[0m\u001b[0;34m\u001b[0m\u001b[0m\n",
            "\u001b[0;31mNameError\u001b[0m: name 'ox' is not defined"
          ]
        }
      ],
      "source": [
        "# impute missing edge speeds and calculate edge travel times with the speed module\n",
        "G = ox.routing.add_edge_speeds(G)\n",
        "G = ox.routing.add_edge_travel_times(G)"
      ]
    },
    {
      "cell_type": "code",
      "execution_count": null,
      "metadata": {
        "id": "xWthBKcGbQzF"
      },
      "outputs": [],
      "source": [
        "# get the nearest network nodes to two lat/lng points with the distance module\n",
        "orig = ox.distance.nearest_nodes(G, X=-122.245846, Y=37.828903)\n",
        "dest = ox.distance.nearest_nodes(G, X=-122.215006, Y=37.812303)"
      ]
    },
    {
      "cell_type": "code",
      "execution_count": null,
      "metadata": {
        "id": "HlsEjebNbQzF"
      },
      "outputs": [],
      "source": [
        "# find the shortest path between nodes, minimizing travel time, then plot it\n",
        "route = ox.routing.shortest_path(G, orig, dest, weight=\"travel_time\")\n",
        "fig, ax = ox.plot.plot_graph_route(G, route, node_size=0)"
      ]
    },
    {
      "cell_type": "code",
      "execution_count": null,
      "metadata": {
        "id": "-7AMUkr5bQzF"
      },
      "outputs": [],
      "source": [
        "# how long is our route in meters?\n",
        "edge_lengths = ox.routing.route_to_gdf(G, route)[\"length\"]\n",
        "round(sum(edge_lengths))"
      ]
    },
    {
      "cell_type": "code",
      "execution_count": null,
      "metadata": {
        "id": "Lm10jl67bQzF"
      },
      "outputs": [],
      "source": [
        "# how far is it between these two nodes as the crow flies?\n",
        "# use OSMnx's vectorized great-circle distance (haversine) function\n",
        "orig_x = G.nodes[orig][\"x\"]\n",
        "orig_y = G.nodes[orig][\"y\"]\n",
        "dest_x = G.nodes[dest][\"x\"]\n",
        "dest_y = G.nodes[dest][\"y\"]\n",
        "round(ox.distance.great_circle(orig_y, orig_x, dest_y, dest_x))"
      ]
    },
    {
      "cell_type": "markdown",
      "metadata": {
        "id": "57CoPczwbQzF"
      },
      "source": [
        "You can add elevation attributes to your graph's nodes automatically with the `elevation` module, using either local raster files or the Google Maps Elevation API."
      ]
    },
    {
      "cell_type": "code",
      "execution_count": null,
      "metadata": {
        "id": "vdZTGVIZbQzF"
      },
      "outputs": [],
      "source": [
        "# add elevation to nodes automatically, calculate edge grades, plot network\n",
        "# you need a google elevation api key to run this cell!\n",
        "try:\n",
        "    from keys import google_elevation_api_key\n",
        "\n",
        "    G = ox.elevation.add_node_elevations_google(G, api_key=google_elevation_api_key)\n",
        "    G = ox.elevation.add_edge_grades(G)\n",
        "    nc = ox.plot.get_node_colors_by_attr(G, \"elevation\", cmap=\"plasma\")\n",
        "    fig, ax = ox.plot.plot_graph(\n",
        "        G,\n",
        "        node_color=nc,\n",
        "        node_size=20,\n",
        "        edge_linewidth=2,\n",
        "        edge_color=\"#333\",\n",
        "    )\n",
        "except ImportError:\n",
        "    print(\"You need a google_elevation_api_key to run this cell.\")"
      ]
    },
    {
      "cell_type": "markdown",
      "metadata": {
        "id": "palN-XuTbQzF"
      },
      "source": [
        "Nodes are colored from lowest elevation (dark blue) to highest (bright yellow).\n",
        "\n",
        "Example: create [elevation-based](12-node-elevations-edge-grades.ipynb) impedance functions to route around hills."
      ]
    },
    {
      "cell_type": "markdown",
      "metadata": {
        "id": "6CM2P-_qbQzF"
      },
      "source": [
        "## Get networks other ways\n",
        "\n",
        "make queries less ambiguous to help the geocoder out, if it's not finding what you're looking for"
      ]
    },
    {
      "cell_type": "code",
      "execution_count": null,
      "metadata": {
        "id": "W69wmawNbQzF"
      },
      "outputs": [],
      "source": [
        "# you can make query an unambiguous dict to help the geocoder find it\n",
        "place = {\"city\": \"San Francisco\", \"state\": \"California\", \"country\": \"USA\"}\n",
        "G = ox.graph.graph_from_place(place, network_type=\"drive\", truncate_by_edge=True)\n",
        "fig, ax = ox.plot.plot_graph(G, figsize=(10, 10), node_size=0, edge_color=\"y\", edge_linewidth=0.2)"
      ]
    },
    {
      "cell_type": "code",
      "execution_count": null,
      "metadata": {
        "id": "AArwes1tbQzF"
      },
      "outputs": [],
      "source": [
        "# you can get networks anywhere in the world\n",
        "G = ox.graph.graph_from_place(\"Sinalunga, Italy\", network_type=\"all\")\n",
        "fig, ax = ox.plot.plot_graph(G, node_size=0, edge_linewidth=0.5)"
      ]
    },
    {
      "cell_type": "code",
      "execution_count": null,
      "metadata": {
        "id": "Ivzp5XfKbQzF"
      },
      "outputs": [],
      "source": [
        "# or get network by address, coordinates, bounding box, or any custom polygon\n",
        "# ...useful when OSM just doesn't already have a polygon for the place you want\n",
        "wurster_hall = (37.870605, -122.254830)\n",
        "one_mile = 1609  # meters\n",
        "G = ox.graph.graph_from_point(wurster_hall, dist=one_mile, network_type=\"drive\")\n",
        "fig, ax = ox.plot.plot_graph(G, node_size=0)"
      ]
    },
    {
      "cell_type": "markdown",
      "metadata": {
        "id": "FLCsoXhJbQzF"
      },
      "source": [
        "Examples of [getting networks](01-overview-osmnx.ipynb) by coordinates, bounding box, or any custom polygon shape."
      ]
    },
    {
      "cell_type": "markdown",
      "metadata": {
        "id": "XQAMiDC4bQzG"
      },
      "source": [
        "## Get other networked infrastructure types\n",
        "\n",
        "...like rail or electric grids or even the canals of Venice and Amsterdam, using the `custom_filter` parameter: [see more examples](08-custom-filters-infrastructure.ipynb)."
      ]
    },
    {
      "cell_type": "code",
      "execution_count": null,
      "metadata": {
        "id": "J8crlE63bQzG"
      },
      "outputs": [],
      "source": [
        "# get NY subway rail network\n",
        "G = ox.graph.graph_from_place(\n",
        "    \"New York, New York, USA\",\n",
        "    retain_all=False,\n",
        "    truncate_by_edge=True,\n",
        "    simplify=True,\n",
        "    custom_filter='[\"railway\"~\"subway\"]',\n",
        ")\n",
        "\n",
        "fig, ax = ox.plot.plot_graph(G, node_size=0, edge_color=\"w\", edge_linewidth=0.2)"
      ]
    },
    {
      "cell_type": "markdown",
      "metadata": {
        "id": "nYDrfnr6bQzG"
      },
      "source": [
        "## Get any geospatial features' geometries and attributes\n",
        "\n",
        "Use the `features` module to download any OSM features, such as local amenities, points of interest, or building footprints, and turn them into a GeoDataFrame: [see docs](https://osmnx.readthedocs.io/en/stable/osmnx.html#module-osmnx.features). For more usage examples of downloading geospatial features from OSM, see [this notebook](16-download-osm-geospatial-features.ipynb)."
      ]
    },
    {
      "cell_type": "code",
      "execution_count": null,
      "metadata": {
        "id": "TFxrAogjbQzG"
      },
      "outputs": [],
      "source": [
        "# get all building footprints in some neighborhood\n",
        "place = \"Chinatown, San Francisco, California\"\n",
        "tags = {\"building\": True}\n",
        "gdf = ox.features.features_from_place(place, tags)\n",
        "gdf.shape"
      ]
    },
    {
      "cell_type": "code",
      "execution_count": null,
      "metadata": {
        "id": "pwV2jde6bQzG"
      },
      "outputs": [],
      "source": [
        "fig, ax = ox.plot.plot_footprints(gdf, figsize=(3, 3))"
      ]
    },
    {
      "cell_type": "markdown",
      "metadata": {
        "id": "wn3vCFi2bQzG"
      },
      "source": [
        "See the other notebooks for more examples of visualization with OSMnx."
      ]
    },
    {
      "cell_type": "code",
      "execution_count": null,
      "metadata": {
        "id": "X6JEFFNdbQzG"
      },
      "outputs": [],
      "source": [
        "# get all parks and bus stops in some neighborhood\n",
        "tags = {\"leisure\": \"park\", \"highway\": \"bus_stop\"}\n",
        "gdf = ox.features.features_from_place(place, tags)\n",
        "gdf.shape"
      ]
    },
    {
      "cell_type": "code",
      "execution_count": null,
      "metadata": {
        "id": "eIlfgfPGbQzJ"
      },
      "outputs": [],
      "source": []
    }
  ],
  "metadata": {
    "kernelspec": {
      "display_name": "Python 3 (ipykernel)",
      "language": "python",
      "name": "python3"
    },
    "language_info": {
      "codemirror_mode": {
        "name": "ipython",
        "version": 3
      },
      "file_extension": ".py",
      "mimetype": "text/x-python",
      "name": "python",
      "nbconvert_exporter": "python",
      "pygments_lexer": "ipython3",
      "version": "3.13.1"
    },
    "colab": {
      "provenance": []
    }
  },
  "nbformat": 4,
  "nbformat_minor": 0
}